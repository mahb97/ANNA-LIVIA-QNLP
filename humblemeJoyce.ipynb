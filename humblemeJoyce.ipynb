{
  "nbformat": 4,
  "nbformat_minor": 0,
  "metadata": {
    "colab": {
      "provenance": [],
      "authorship_tag": "ABX9TyOkuUHzHx+BWwBViNSITVTE",
      "include_colab_link": true
    },
    "kernelspec": {
      "name": "python3",
      "display_name": "Python 3"
    },
    "language_info": {
      "name": "python"
    }
  },
  "cells": [
    {
      "cell_type": "markdown",
      "metadata": {
        "id": "view-in-github",
        "colab_type": "text"
      },
      "source": [
        "<a href=\"https://colab.research.google.com/github/mahb97/ANNA-LIVIA-QNLP/blob/main/humblemeJoyce.ipynb\" target=\"_parent\"><img src=\"https://colab.research.google.com/assets/colab-badge.svg\" alt=\"Open In Colab\"/></a>"
      ]
    },
    {
      "cell_type": "code",
      "source": [
        "!pip -q install --upgrade --no-cache-dir \\\n",
        "  \"numpy==2.0.2\" \\\n",
        "  \"tensornetwork==0.4.6\" \\\n",
        "  \"lambeq[extras]==0.5.1\" \\\n",
        "  \"discopy==1.1.3\" \\\n",
        "  \"pydantic>=2.11,<3\"\n",
        "\n",
        "!pip -q install --upgrade --no-cache-dir \\\n",
        "  --index-url https://download.pytorch.org/whl/cpu \\\n",
        "  torch==2.8.0+cpu torchvision==0.23.0+cpu torchaudio==2.8.0+cpu\n",
        "\n",
        "import sys, pkgutil, pkg_resources\n",
        "pkgs = [\"numpy\",\"torch\",\"torchvision\",\"torchaudio\",\"tensornetwork\",\"lambeq\",\"discopy\"]\n",
        "print({p: pkg_resources.get_distribution(p).version for p in pkgs if pkgutil.find_loader(p)})\n"
      ],
      "metadata": {
        "colab": {
          "base_uri": "https://localhost:8080/"
        },
        "id": "6t9VVAthGbqp",
        "outputId": "4b96a9df-d2c7-489b-e59f-7be1972793c6"
      },
      "execution_count": 2,
      "outputs": [
        {
          "output_type": "stream",
          "name": "stdout",
          "text": [
            "\u001b[?25l     \u001b[90m━━━━━━━━━━━━━━━━━━━━━━━━━━━━━━━━━━━━━━━━\u001b[0m \u001b[32m0.0/60.9 kB\u001b[0m \u001b[31m?\u001b[0m eta \u001b[36m-:--:--\u001b[0m\r\u001b[2K     \u001b[90m━━━━━━━━━━━━━━━━━━━━━━━━━━━━━━━━━━━━━━━━\u001b[0m \u001b[32m60.9/60.9 kB\u001b[0m \u001b[31m10.9 MB/s\u001b[0m eta \u001b[36m0:00:00\u001b[0m\n",
            "\u001b[?25h\u001b[31mERROR: Ignored the following versions that require a different python version: 1.21.2 Requires-Python >=3.7,<3.11; 1.21.3 Requires-Python >=3.7,<3.11; 1.21.4 Requires-Python >=3.7,<3.11; 1.21.5 Requires-Python >=3.7,<3.11; 1.21.6 Requires-Python >=3.7,<3.11\u001b[0m\u001b[31m\n",
            "\u001b[0m\u001b[31mERROR: Could not find a version that satisfies the requirement lambeq==0.5.1 (from versions: 0.1.0, 0.1.1, 0.1.2, 0.2.0, 0.2.1, 0.2.2, 0.2.3, 0.2.4, 0.2.5, 0.2.6, 0.2.7, 0.2.8, 0.3.0, 0.3.1, 0.3.2, 0.3.3, 0.4.0, 0.4.1, 0.4.2, 0.4.3, 0.5.0)\u001b[0m\u001b[31m\n",
            "\u001b[0m\u001b[31mERROR: No matching distribution found for lambeq==0.5.1\u001b[0m\u001b[31m\n",
            "\u001b[2K   \u001b[90m━━━━━━━━━━━━━━━━━━━━━━━━━━━━━━━━━━━━━━━━\u001b[0m \u001b[32m183.9/183.9 MB\u001b[0m \u001b[31m98.4 MB/s\u001b[0m eta \u001b[36m0:00:00\u001b[0m\n",
            "\u001b[2K   \u001b[90m━━━━━━━━━━━━━━━━━━━━━━━━━━━━━━━━━━━━━━━━\u001b[0m \u001b[32m1.9/1.9 MB\u001b[0m \u001b[31m105.7 MB/s\u001b[0m eta \u001b[36m0:00:00\u001b[0m\n",
            "\u001b[2K   \u001b[90m━━━━━━━━━━━━━━━━━━━━━━━━━━━━━━━━━━━━━━━━\u001b[0m \u001b[32m1.8/1.8 MB\u001b[0m \u001b[31m110.3 MB/s\u001b[0m eta \u001b[36m0:00:00\u001b[0m\n",
            "\u001b[?25h{'numpy': '2.3.4', 'torch': '2.8.0+cpu', 'torchvision': '0.23.0+cpu', 'torchaudio': '2.8.0+cpu', 'tensornetwork': '0.4.6', 'lambeq': '0.5.0', 'discopy': '1.2.0'}\n"
          ]
        },
        {
          "output_type": "stream",
          "name": "stderr",
          "text": [
            "/tmp/ipython-input-1085429320.py:5: DeprecationWarning: pkg_resources is deprecated as an API. See https://setuptools.pypa.io/en/latest/pkg_resources.html\n",
            "  import sys, pkgutil, pkg_resources\n",
            "/tmp/ipython-input-1085429320.py:7: DeprecationWarning: 'pkgutil.find_loader' is deprecated and slated for removal in Python 3.14; use importlib.util.find_spec() instead\n",
            "  print({p: pkg_resources.get_distribution(p).version for p in pkgs if pkgutil.find_loader(p)})\n"
          ]
        }
      ]
    },
    {
      "cell_type": "code",
      "source": [
        "!pip -q uninstall -y numpy scipy torch torchvision torchaudio tensornetwork lambeq discopy >/dev/null\n",
        "\n",
        "!pip -q install --no-cache-dir \\\n",
        "  numpy==2.0.2 \\\n",
        "  scipy==1.14.1\n",
        "\n",
        "!pip -q install --no-cache-dir \\\n",
        "  --index-url https://download.pytorch.org/whl/cpu \\\n",
        "  torch==2.8.0+cpu torchvision==0.23.0+cpu torchaudio==2.8.0+cpu\n",
        "\n",
        "!pip -q install --no-cache-dir \\\n",
        "  tensornetwork==0.4.6 \\\n",
        "  discopy==1.1.3 \\\n",
        "  \"lambeq[extras]==0.5.1\" \\\n",
        "  \"pydantic>=2.11,<3\"\n",
        "\n",
        "import pkgutil, pkg_resources\n",
        "pkgs = [\"numpy\",\"scipy\",\"torch\",\"torchvision\",\"torchaudio\",\"tensornetwork\",\"lambeq\",\"discopy\"]\n",
        "print({p: pkg_resources.get_distribution(p).version for p in pkgs if pkgutil.find_loader(p)})\n"
      ],
      "metadata": {
        "colab": {
          "base_uri": "https://localhost:8080/"
        },
        "id": "nkzpyFc2H4AE",
        "outputId": "b630d420-adc7-427f-841e-c153936747d9"
      },
      "execution_count": 4,
      "outputs": [
        {
          "output_type": "stream",
          "name": "stdout",
          "text": [
            "\u001b[2K     \u001b[90m━━━━━━━━━━━━━━━━━━━━━━━━━━━━━━━━━━━━━━━━\u001b[0m \u001b[32m60.9/60.9 kB\u001b[0m \u001b[31m22.6 MB/s\u001b[0m eta \u001b[36m0:00:00\u001b[0m\n",
            "\u001b[2K     \u001b[90m━━━━━━━━━━━━━━━━━━━━━━━━━━━━━━━━━━━━━━━━\u001b[0m \u001b[32m60.8/60.8 kB\u001b[0m \u001b[31m75.8 MB/s\u001b[0m eta \u001b[36m0:00:00\u001b[0m\n",
            "\u001b[2K   \u001b[90m━━━━━━━━━━━━━━━━━━━━━━━━━━━━━━━━━━━━━━━━\u001b[0m \u001b[32m19.2/19.2 MB\u001b[0m \u001b[31m280.8 MB/s\u001b[0m eta \u001b[36m0:00:00\u001b[0m\n",
            "\u001b[2K   \u001b[90m━━━━━━━━━━━━━━━━━━━━━━━━━━━━━━━━━━━━━━━━\u001b[0m \u001b[32m40.8/40.8 MB\u001b[0m \u001b[31m254.0 MB/s\u001b[0m eta \u001b[36m0:00:00\u001b[0m\n",
            "\u001b[?25h\u001b[31mERROR: pip's dependency resolver does not currently take into account all the packages that are installed. This behaviour is the source of the following dependency conflicts.\n",
            "sentence-transformers 5.1.1 requires torch>=1.11.0, which is not installed.\n",
            "accelerate 1.10.1 requires torch>=2.0.0, which is not installed.\n",
            "peft 0.17.1 requires torch>=1.13.0, which is not installed.\n",
            "fastai 2.8.4 requires torch<2.9,>=1.10, which is not installed.\n",
            "fastai 2.8.4 requires torchvision>=0.11, which is not installed.\u001b[0m\u001b[31m\n",
            "\u001b[2K   \u001b[90m━━━━━━━━━━━━━━━━━━━━━━━━━━━━━━━━━━━━━━━\u001b[0m \u001b[32m183.9/183.9 MB\u001b[0m \u001b[31m182.3 MB/s\u001b[0m eta \u001b[36m0:00:00\u001b[0m\n",
            "\u001b[2K   \u001b[90m━━━━━━━━━━━━━━━━━━━━━━━━━━━━━━━━━━━━━━━━\u001b[0m \u001b[32m1.9/1.9 MB\u001b[0m \u001b[31m117.5 MB/s\u001b[0m eta \u001b[36m0:00:00\u001b[0m\n",
            "\u001b[2K   \u001b[90m━━━━━━━━━━━━━━━━━━━━━━━━━━━━━━━━━━━━━━━━\u001b[0m \u001b[32m1.8/1.8 MB\u001b[0m \u001b[31m100.4 MB/s\u001b[0m eta \u001b[36m0:00:00\u001b[0m\n",
            "\u001b[?25h\u001b[31mERROR: Could not find a version that satisfies the requirement lambeq==0.5.1 (from versions: 0.1.0, 0.1.1, 0.1.2, 0.2.0, 0.2.1, 0.2.2, 0.2.3, 0.2.4, 0.2.5, 0.2.6, 0.2.7, 0.2.8, 0.3.0, 0.3.1, 0.3.2, 0.3.3, 0.4.0, 0.4.1, 0.4.2, 0.4.3, 0.5.0)\u001b[0m\u001b[31m\n",
            "\u001b[0m\u001b[31mERROR: No matching distribution found for lambeq==0.5.1\u001b[0m\u001b[31m\n",
            "\u001b[0m{'numpy': '2.3.4', 'scipy': '1.16.2', 'torch': '2.8.0+cpu', 'torchvision': '0.23.0+cpu', 'torchaudio': '2.8.0+cpu'}\n"
          ]
        },
        {
          "output_type": "stream",
          "name": "stderr",
          "text": [
            "/tmp/ipython-input-2376201959.py:11: DeprecationWarning: 'pkgutil.find_loader' is deprecated and slated for removal in Python 3.14; use importlib.util.find_spec() instead\n",
            "  print({p: pkg_resources.get_distribution(p).version for p in pkgs if pkgutil.find_loader(p)})\n"
          ]
        }
      ]
    },
    {
      "cell_type": "code",
      "source": [
        "RESULTS = []\n",
        "\n",
        "from lambeq.ansatz import TensorAnsatz\n",
        "ans_tensor = TensorAnsatz(ob_map)\n",
        "circs_tensor = [ans_tensor(d) for d in diags_rw]\n",
        "X = np.array([[len(d.boxes), ty_arity(d.dom)+ty_arity(d.cod)] for d in diags_rw], np.float32)\n",
        "y = toy_labels(lines_rw)\n",
        "\n",
        "from sklearn.model_selection import train_test_split\n",
        "from sklearn.linear_model import LogisticRegression\n",
        "from sklearn.metrics import accuracy_score\n",
        "Xtr,Xte,ytr,yte = train_test_split(X,y, test_size=0.25, random_state=0, stratify=y if y.sum() not in (0,len(y)) else None)\n",
        "acc = accuracy_score(yte, LogisticRegression(max_iter=1000).fit(Xtr,ytr).predict(Xte))\n",
        "RESULTS.append((\"TensorAnsatz+logreg(structural)\", acc))\n",
        "\n",
        "try:\n",
        "    from lambeq.ansatz import MPSAnsatz\n",
        "    ans_mps = MPSAnsatz(ob_map, rank=2)\n",
        "    circs_mps = [ans_mps(d) for d in diags_rw]\n",
        "    RESULT_MPS = (\"MPSAnsatz(structural-baseline)\", acc)\n",
        "    RESULTS.append(RESULT_MPS)\n",
        "except Exception:\n",
        "    pass\n",
        "\n",
        "# Optional PennyLane tiny qnode\n",
        "    !pip -q install pennylane\n",
        "    import pennylane as qml\n",
        "    dev = qml.device(\"default.qubit\", wires=4, shots=None)\n",
        "    @qml.qnode(dev, interface=\"torch\")\n",
        "    def encode_then_measure(x):\n",
        "        # encode 2 features -> 4 rotations (toy)\n",
        "        qml.RX(x[0], wires=0); qml.RY(x[1], wires=1)\n",
        "        qml.CNOT(wires=[0,1])\n",
        "        return qml.expval(qml.PauliZ(0))\n",
        "    # Use the same X features\n",
        "    RESULTS.append((\"PennyLane qnode (toy encode)\", \"runs\"))\n",
        "RESULTS\n"
      ],
      "metadata": {
        "colab": {
          "base_uri": "https://localhost:8080/",
          "height": 378
        },
        "id": "8K_hvMjYLh-j",
        "outputId": "0a426df3-e970-451a-e8b7-8c84f5c50a73"
      },
      "execution_count": 5,
      "outputs": [
        {
          "output_type": "error",
          "ename": "ModuleNotFoundError",
          "evalue": "No module named 'lambeq'",
          "traceback": [
            "\u001b[0;31m---------------------------------------------------------------------------\u001b[0m",
            "\u001b[0;31mModuleNotFoundError\u001b[0m                       Traceback (most recent call last)",
            "\u001b[0;32m/tmp/ipython-input-2561292542.py\u001b[0m in \u001b[0;36m<cell line: 0>\u001b[0;34m()\u001b[0m\n\u001b[1;32m      1\u001b[0m \u001b[0mRESULTS\u001b[0m \u001b[0;34m=\u001b[0m \u001b[0;34m[\u001b[0m\u001b[0;34m]\u001b[0m\u001b[0;34m\u001b[0m\u001b[0;34m\u001b[0m\u001b[0m\n\u001b[1;32m      2\u001b[0m \u001b[0;34m\u001b[0m\u001b[0m\n\u001b[0;32m----> 3\u001b[0;31m \u001b[0;32mfrom\u001b[0m \u001b[0mlambeq\u001b[0m\u001b[0;34m.\u001b[0m\u001b[0mansatz\u001b[0m \u001b[0;32mimport\u001b[0m \u001b[0mTensorAnsatz\u001b[0m\u001b[0;34m\u001b[0m\u001b[0;34m\u001b[0m\u001b[0m\n\u001b[0m\u001b[1;32m      4\u001b[0m \u001b[0mans_tensor\u001b[0m \u001b[0;34m=\u001b[0m \u001b[0mTensorAnsatz\u001b[0m\u001b[0;34m(\u001b[0m\u001b[0mob_map\u001b[0m\u001b[0;34m)\u001b[0m\u001b[0;34m\u001b[0m\u001b[0;34m\u001b[0m\u001b[0m\n\u001b[1;32m      5\u001b[0m \u001b[0mcircs_tensor\u001b[0m \u001b[0;34m=\u001b[0m \u001b[0;34m[\u001b[0m\u001b[0mans_tensor\u001b[0m\u001b[0;34m(\u001b[0m\u001b[0md\u001b[0m\u001b[0;34m)\u001b[0m \u001b[0;32mfor\u001b[0m \u001b[0md\u001b[0m \u001b[0;32min\u001b[0m \u001b[0mdiags_rw\u001b[0m\u001b[0;34m]\u001b[0m\u001b[0;34m\u001b[0m\u001b[0;34m\u001b[0m\u001b[0m\n",
            "\u001b[0;31mModuleNotFoundError\u001b[0m: No module named 'lambeq'",
            "",
            "\u001b[0;31m---------------------------------------------------------------------------\u001b[0;32m\nNOTE: If your import is failing due to a missing package, you can\nmanually install dependencies using either !pip or !apt.\n\nTo view examples of installing some common dependencies, click the\n\"Open Examples\" button below.\n\u001b[0;31m---------------------------------------------------------------------------\u001b[0m\n"
          ],
          "errorDetails": {
            "actions": [
              {
                "action": "open_url",
                "actionText": "Open Examples",
                "url": "/notebooks/snippets/importing_libraries.ipynb"
              }
            ]
          }
        }
      ]
    },
    {
      "cell_type": "code",
      "source": [
        "from PIL import Image\n",
        "def window_tokens(s, size=12, stride=8):\n",
        "    toks = s.split()\n",
        "    return [\" \".join(toks[i:i+size]) for i in range(0, len(toks), stride) if len(toks[i:i+size])>=4]\n",
        "\n",
        "def render_panels(sentence, ansatz, base=\"outputs/panel\", size=12, stride=8):\n",
        "    panels, paths = [], []\n",
        "    for k, frag in enumerate(window_tokens(sentence, size, stride),1):\n",
        "        try:\n",
        "            d = rewriter(parser.sentence2diagram(frag))\n",
        "            c = ansatz(d)\n",
        "            p1 = f\"{base}_{k}_diagram.svg\"\n",
        "            p2 = f\"{base}_{k}_circuit.svg\"\n",
        "            # vector saves\n",
        "            import matplotlib\n",
        "            matplotlib.use(\"Agg\"); import matplotlib.pyplot as plt\n",
        "            plt.figure(figsize=(14,2)); _ = d.draw(fontsize=9); plt.savefig(p1, bbox_inches=\"tight\"); plt.close()\n",
        "            plt.figure(figsize=(18,3)); _ = c.draw(fontsize=8); plt.savefig(p2, bbox_inches=\"tight\"); plt.close()\n",
        "            panels.append(frag); paths += [p1,p2]\n",
        "        except: pass\n",
        "    return panels, paths"
      ],
      "metadata": {
        "id": "T_F2bVTqLAQg"
      },
      "execution_count": null,
      "outputs": []
    }
  ]
}