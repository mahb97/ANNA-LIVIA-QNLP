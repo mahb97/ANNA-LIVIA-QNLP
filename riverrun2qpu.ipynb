{
  "nbformat": 4,
  "nbformat_minor": 0,
  "metadata": {
    "colab": {
      "provenance": [],
      "authorship_tag": "ABX9TyO8m2hjjvIppd4e7viEpKwB",
      "include_colab_link": true
    },
    "kernelspec": {
      "name": "python3",
      "display_name": "Python 3"
    },
    "language_info": {
      "name": "python"
    }
  },
  "cells": [
    {
      "cell_type": "markdown",
      "metadata": {
        "id": "view-in-github",
        "colab_type": "text"
      },
      "source": [
        "<a href=\"https://colab.research.google.com/github/mahb97/ANNA-LIVIA-QNLP/blob/main/riverrun2qpu.ipynb\" target=\"_parent\"><img src=\"https://colab.research.google.com/assets/colab-badge.svg\" alt=\"Open In Colab\"/></a>"
      ]
    },
    {
      "cell_type": "markdown",
      "source": [
        "If DisCoCat can survive Finnegans Wake, it can survive your dataset. Here I run Joyce through lambeq/Bobcat, emit string diagrams, simplify, and instantiate a tiny IQP circuit for a clean, classical pass. The result is a pretty, brutal, honest demo: composition under maximal turbulence. The diagrams commute; the prose refuses. Enjoy the tension."
      ],
      "metadata": {
        "id": "qOlX0DR1eWYK"
      }
    },
    {
      "cell_type": "markdown",
      "source": [
        "MIT License\n",
        "\n",
        "Copyright (c) 2025\n",
        "\n",
        "Permission is hereby granted, free of charge, to any person obtaining a copy.\n",
        "\n",
        "cff-version: 1.2.0\n",
        "\n",
        "title: riverrun2qpu\n",
        "\n",
        "message: If you use this repo, please cite it (and the lambeq paper).\n",
        "\n",
        "type: software\n",
        "\n",
        "authors: Maja Biehle\n",
        "\n",
        "repository-code: https://github.com/<mahb97>/anna-livia-qnlp\n",
        "\n",
        "version: 0.1.0\n",
        "\n",
        "date-released: 2025-10-21\n",
        "\n",
        "keywords: [lambeq, qnlp, discocat, discopy, joyce, finnegans-wake]\n"
      ],
      "metadata": {
        "id": "aPDO9yX1dE8Q"
      }
    },
    {
      "cell_type": "markdown",
      "source": [
        "**What this is not**\n",
        "\n",
        "*   No quantum speedup claims.\n",
        "*   No claim to “solve” Wake or semantics.\n",
        "*   just a reproducible classroom-grade demo showing the plumbing works (and it looks gorgeous)."
      ],
      "metadata": {
        "id": "9RW-qhC2aJg6"
      }
    },
    {
      "cell_type": "markdown",
      "source": [
        "**Acknowledgements**\n",
        "\n",
        "Joyce, the quantum father. The lambeq & DisCoPy folks."
      ],
      "metadata": {
        "id": "lua0v1BpavTF"
      }
    },
    {
      "cell_type": "markdown",
      "source": [
        "# **requirements.txt**\n",
        "\n",
        "lambeq[extras]>=0.3\n",
        "\n",
        "numpy>=1.26\n",
        "\n",
        "torch>=2.2\n"
      ],
      "metadata": {
        "id": "FkkG2sxYcX33"
      }
    },
    {
      "cell_type": "code",
      "execution_count": 19,
      "metadata": {
        "colab": {
          "base_uri": "https://localhost:8080/"
        },
        "id": "TWrOjf1taI9Y",
        "outputId": "b3834022-a48f-4568-abaa-cbc26063148a"
      },
      "outputs": [
        {
          "output_type": "stream",
          "name": "stdout",
          "text": [
            "\u001b[31mERROR: pip's dependency resolver does not currently take into account all the packages that are installed. This behaviour is the source of the following dependency conflicts.\n",
            "mcp 1.17.0 requires pydantic<3.0.0,>=2.11.0, but you have pydantic 2.9.2 which is incompatible.\u001b[0m\u001b[31m\n",
            "\u001b[0m2025-10-21 20:13:32.961135: E external/local_xla/xla/stream_executor/cuda/cuda_fft.cc:467] Unable to register cuFFT factory: Attempting to register factory for plugin cuFFT when one has already been registered\n",
            "WARNING: All log messages before absl::InitializeLog() is called are written to STDERR\n",
            "E0000 00:00:1761077613.035255   33707 cuda_dnn.cc:8579] Unable to register cuDNN factory: Attempting to register factory for plugin cuDNN when one has already been registered\n",
            "E0000 00:00:1761077613.057683   33707 cuda_blas.cc:1407] Unable to register cuBLAS factory: Attempting to register factory for plugin cuBLAS when one has already been registered\n",
            "W0000 00:00:1761077613.131055   33707 computation_placer.cc:177] computation placer already registered. Please check linkage and avoid linking the same target more than once.\n",
            "W0000 00:00:1761077613.131125   33707 computation_placer.cc:177] computation placer already registered. Please check linkage and avoid linking the same target more than once.\n",
            "W0000 00:00:1761077613.131132   33707 computation_placer.cc:177] computation placer already registered. Please check linkage and avoid linking the same target more than once.\n",
            "W0000 00:00:1761077613.131137   33707 computation_placer.cc:177] computation placer already registered. Please check linkage and avoid linking the same target more than once.\n",
            "lambeq 0.5.0\n",
            "\u001b[31mERROR: pip's dependency resolver does not currently take into account all the packages that are installed. This behaviour is the source of the following dependency conflicts.\n",
            "qiskit-ibm-runtime 0.36.1 requires pydantic<2.10,>=2.5.0, but you have pydantic 2.12.3 which is incompatible.\n",
            "gradio 5.49.1 requires pydantic<2.12,>=2.0, but you have pydantic 2.12.3 which is incompatible.\u001b[0m\u001b[31m\n",
            "\u001b[0mlambeq ready\n"
          ]
        }
      ],
      "source": [
        "!pip -q install \"lambeq[extras]\" && python -c \"import lambeq; print('lambeq', lambeq.__version__)\"\n",
        "!pip -q install \"pydantic>=2.11,<3\" --upgrade\n",
        "\n",
        "import os\n",
        "os.environ[\"CUDA_VISIBLE_DEVICES\"] = \"\"  # force CPU\n",
        "\n",
        "# imports for current lambeq\n",
        "from lambeq import BobcatParser, IQPAnsatz, AtomicType\n",
        "from lambeq.rewrite import Rewriter\n",
        "\n",
        "print(\"lambeq ready\")\n"
      ]
    },
    {
      "cell_type": "code",
      "source": [
        "parser = BobcatParser()\n",
        "diagram = parser.sentence2diagram(\"Joyce is the quantum father.\")\n",
        "diagram.draw()  # should render\n",
        "\n",
        "N, S = AtomicType.NOUN, AtomicType.SENTENCE\n",
        "ansatz = IQPAnsatz({N: 1, S: 1}, n_layers=1)\n",
        "circuit = ansatz(diagram)\n",
        "circuit.draw()  # should render a circuit\n"
      ],
      "metadata": {
        "id": "Ha3WuvYYgqZ3"
      },
      "execution_count": 20,
      "outputs": []
    },
    {
      "cell_type": "code",
      "source": [
        "# Rewrite to simplify the diagram (removes det/adj scaffolding)\n",
        "from lambeq import BobcatParser, IQPAnsatz, AtomicType\n",
        "from lambeq.rewrite import Rewriter\n",
        "import matplotlib.pyplot as plt\n",
        "import os\n",
        "\n",
        "# Create the outputs directory if it doesn't exist\n",
        "os.makedirs(\"outputs\", exist_ok=True)\n",
        "\n",
        "N, S = AtomicType.NOUN, AtomicType.SENTENCE\n",
        "\n",
        "parser = BobcatParser()\n",
        "rewriter = Rewriter([\n",
        "    'prepositional_phrase','determiner','connector',\n",
        "    'preadverb','postadverb','auxiliary'\n",
        "])\n",
        "\n",
        "sent = \"Joyce is the quantum father.\"\n",
        "d_raw = parser.sentence2diagram(sent)\n",
        "d_simpl = rewriter(d_raw)\n",
        "\n",
        "# Use matplotlib\n",
        "d_raw.draw()\n",
        "plt.savefig(\"outputs/joyce_raw_diagram.png\")\n",
        "plt.close()\n",
        "\n",
        "d_simpl.draw()\n",
        "plt.savefig(\"outputs/joyce_simpl_diagram.png\")\n",
        "plt.close()\n",
        "\n",
        "ans = IQPAnsatz({N:1, S:1}, n_layers=1)\n",
        "circ = ans(d_simpl)\n",
        "circ.draw()\n",
        "plt.savefig(\"outputs/joyce_circuit.png\")\n",
        "plt.close()\n",
        "\n",
        "\n",
        "print(\"saved raw & simplified diagrams and circuit\")"
      ],
      "metadata": {
        "colab": {
          "base_uri": "https://localhost:8080/"
        },
        "id": "Gd6KzKqXhinY",
        "outputId": "7c7445ef-b80f-4d6f-e2f1-bdfd0d45f170"
      },
      "execution_count": 21,
      "outputs": [
        {
          "output_type": "stream",
          "name": "stdout",
          "text": [
            "saved raw & simplified diagrams and circuit\n"
          ]
        }
      ]
    },
    {
      "cell_type": "code",
      "source": [
        "ans = IQPAnsatz({N:1, S:1}, n_layers=1)\n",
        "circ = ans(d_simpl)\n",
        "\n",
        "circ.draw()\n",
        "plt.savefig(\"outputs/joyce_circuit.png\")\n",
        "plt.close()\n",
        "\n",
        "print(\"saved circuit\")"
      ],
      "metadata": {
        "colab": {
          "base_uri": "https://localhost:8080/",
          "height": 225
        },
        "id": "nEZs8f5Kh9XB",
        "outputId": "7e8cd086-848d-4d8e-8b69-33975248bcee"
      },
      "execution_count": 5,
      "outputs": [
        {
          "output_type": "display_data",
          "data": {
            "text/plain": [
              "<Figure size 640x480 with 1 Axes>"
            ],
            "image/png": "[encoded data removed]"
          },
          "metadata": {}
        },
        {
          "output_type": "stream",
          "name": "stdout",
          "text": [
            "saved circuit\n"
          ]
        }
      ]
    },
    {
      "cell_type": "code",
      "source": [
        "import os, matplotlib\n",
        "matplotlib.use(\"Agg\")\n",
        "import matplotlib.pyplot as plt\n",
        "os.makedirs(\"outputs\", exist_ok=True)\n",
        "\n",
        "plt.figure(figsize=(6, 2))\n",
        "_ = d_raw.draw()\n",
        "fig = plt.gcf()\n",
        "fig.patch.set_facecolor(\"white\")\n",
        "fig.savefig(\"outputs/joyce_raw_diagram.png\", bbox_inches=\"tight\", dpi=300)\n",
        "plt.close(fig)\n",
        "\n",
        "plt.figure(figsize=(6, 2))\n",
        "_ = d_simpl.draw()\n",
        "fig = plt.gcf()\n",
        "fig.patch.set_facecolor(\"white\")\n",
        "fig.savefig(\"outputs/joyce_simpl_diagram.png\", bbox_inches=\"tight\", dpi=300)\n",
        "plt.close(fig)\n",
        "\n",
        "plt.figure(figsize=(6, 2))\n",
        "_ = circ.draw()\n",
        "fig = plt.gcf()\n",
        "fig.patch.set_facecolor(\"white\")\n",
        "fig.savefig(\"outputs/joyce_circuit.png\", bbox_inches=\"tight\", dpi=300)\n",
        "plt.close(fig)"
      ],
      "metadata": {
        "id": "SL9ab0D3iZfY"
      },
      "execution_count": 22,
      "outputs": []
    },
    {
      "cell_type": "code",
      "source": [
        "from PIL import Image\n",
        "\n",
        "def to_rgb(path):\n",
        "    im = Image.open(path).convert(\"RGBA\")\n",
        "    bg = Image.new(\"RGBA\", im.size, (255,255,255,255))\n",
        "    return Image.alpha_composite(bg, im).convert(\"RGB\")\n",
        "\n",
        "left  = to_rgb(\"outputs/joyce_simpl_diagram.png\")\n",
        "right = to_rgb(\"outputs/joyce_circuit.png\")\n",
        "\n",
        "def resize_h(im, h):\n",
        "    w, hh = im.size\n",
        "    if hh == h: return im\n",
        "    return im.resize((max(1, int(w*h/hh)), h), Image.LANCZOS)\n",
        "\n",
        "H = max(left.height, right.height)\n",
        "left, right = resize_h(left, H), resize_h(right, H)\n",
        "\n",
        "banner = Image.new(\"RGB\", (left.width + right.width, H), \"white\")\n",
        "banner.paste(left, (0,0)); banner.paste(right, (left.width,0))\n",
        "banner.save(\"outputs/joyce_banner.png\")\n",
        "print(\"Saved → outputs/joyce_banner.png\")\n"
      ],
      "metadata": {
        "colab": {
          "base_uri": "https://localhost:8080/"
        },
        "id": "kTs83wLHjhib",
        "outputId": "267aa2b0-9264-4a92-989f-3a393951e85c"
      },
      "execution_count": 23,
      "outputs": [
        {
          "output_type": "stream",
          "name": "stdout",
          "text": [
            "Saved → outputs/joyce_banner.png\n"
          ]
        }
      ]
    },
    {
      "cell_type": "code",
      "source": [
        "# gospel\n",
        "from google.colab import files\n",
        "from pathlib import Path\n",
        "import re\n",
        "\n",
        "print(\"Upload Finnegans Wake .txt file\")\n",
        "uploaded = files.upload()\n",
        "fname = list(uploaded.keys())[0]\n",
        "\n",
        "raw = Path(fname).read_text(encoding=\"utf-8\", errors=\"ignore\")\n",
        "raw = re.sub(r'\\s+', ' ', raw).strip()\n",
        "print(\"chars:\", len(raw))"
      ],
      "metadata": {
        "id": "ACFrGSh7baLN",
        "colab": {
          "base_uri": "https://localhost:8080/",
          "height": 103
        },
        "outputId": "bfc43816-1c78-46ae-cfe2-051f83f14894"
      },
      "execution_count": 24,
      "outputs": [
        {
          "output_type": "stream",
          "name": "stdout",
          "text": [
            "Upload Finnegans Wake .txt file\n"
          ]
        },
        {
          "output_type": "display_data",
          "data": {
            "text/plain": [
              "<IPython.core.display.HTML object>"
            ],
            "text/html": [
              "\n",
              "     <input type=\"file\" id=\"files-8c07a2aa-0dfb-4a08-af84-028c9ff26bde\" name=\"files[]\" multiple disabled\n",
              "        style=\"border:none\" />\n",
              "     <output id=\"result-8c07a2aa-0dfb-4a08-af84-028c9ff26bde\">\n",
              "      Upload widget is only available when the cell has been executed in the\n",
              "      current browser session. Please rerun this cell to enable.\n",
              "      </output>\n",
              "      <script>// Copyright 2017 Google LLC\n",
              "//\n",
              "// Licensed under the Apache License, Version 2.0 (the \"License\");\n",
              "// you may not use this file except in compliance with the License.\n",
              "// You may obtain a copy of the License at\n",
              "//\n",
              "//      http://www.apache.org/licenses/LICENSE-2.0\n",
              "//\n",
              "// Unless required by applicable law or agreed to in writing, software\n",
              "// distributed under the License is distributed on an \"AS IS\" BASIS,\n",
              "// WITHOUT WARRANTIES OR CONDITIONS OF ANY KIND, either express or implied.\n",
              "// See the License for the specific language governing permissions and\n",
              "// limitations under the License.\n",
              "\n",
              "/**\n",
              " * @fileoverview Helpers for google.colab Python module.\n",
              " */\n",
              "(function(scope) {\n",
              "function span(text, styleAttributes = {}) {\n",
              "  const element = document.createElement('span');\n",
              "  element.textContent = text;\n",
              "  for (const key of Object.keys(styleAttributes)) {\n",
              "    element.style[key] = styleAttributes[key];\n",
              "  }\n",
              "  return element;\n",
              "}\n",
              "\n",
              "// Max number of bytes which will be uploaded at a time.\n",
              "const MAX_PAYLOAD_SIZE = 100 * 1024;\n",
              "\n",
              "function _uploadFiles(inputId, outputId) {\n",
              "  const steps = uploadFilesStep(inputId, outputId);\n",
              "  const outputElement = document.getElementById(outputId);\n",
              "  // Cache steps on the outputElement to make it available for the next call\n",
              "  // to uploadFilesContinue from Python.\n",
              "  outputElement.steps = steps;\n",
              "\n",
              "  return _uploadFilesContinue(outputId);\n",
              "}\n",
              "\n",
              "// This is roughly an async generator (not supported in the browser yet),\n",
              "// where there are multiple asynchronous steps and the Python side is going\n",
              "// to poll for completion of each step.\n",
              "// This uses a Promise to block the python side on completion of each step,\n",
              "// then passes the result of the previous step as the input to the next step.\n",
              "function _uploadFilesContinue(outputId) {\n",
              "  const outputElement = document.getElementById(outputId);\n",
              "  const steps = outputElement.steps;\n",
              "\n",
              "  const next = steps.next(outputElement.lastPromiseValue);\n",
              "  return Promise.resolve(next.value.promise).then((value) => {\n",
              "    // Cache the last promise value to make it available to the next\n",
              "    // step of the generator.\n",
              "    outputElement.lastPromiseValue = value;\n",
              "    return next.value.response;\n",
              "  });\n",
              "}\n",
              "\n",
              "/**\n",
              " * Generator function which is called between each async step of the upload\n",
              " * process.\n",
              " * @param {string} inputId Element ID of the input file picker element.\n",
              " * @param {string} outputId Element ID of the output display.\n",
              " * @return {!Iterable<!Object>} Iterable of next steps.\n",
              " */\n",
              "function* uploadFilesStep(inputId, outputId) {\n",
              "  const inputElement = document.getElementById(inputId);\n",
              "  inputElement.disabled = false;\n",
              "\n",
              "  const outputElement = document.getElementById(outputId);\n",
              "  outputElement.innerHTML = '';\n",
              "\n",
              "  const pickedPromise = new Promise((resolve) => {\n",
              "    inputElement.addEventListener('change', (e) => {\n",
              "      resolve(e.target.files);\n",
              "    });\n",
              "  });\n",
              "\n",
              "  const cancel = document.createElement('button');\n",
              "  inputElement.parentElement.appendChild(cancel);\n",
              "  cancel.textContent = 'Cancel upload';\n",
              "  const cancelPromise = new Promise((resolve) => {\n",
              "    cancel.onclick = () => {\n",
              "      resolve(null);\n",
              "    };\n",
              "  });\n",
              "\n",
              "  // Wait for the user to pick the files.\n",
              "  const files = yield {\n",
              "    promise: Promise.race([pickedPromise, cancelPromise]),\n",
              "    response: {\n",
              "      action: 'starting',\n",
              "    }\n",
              "  };\n",
              "\n",
              "  cancel.remove();\n",
              "\n",
              "  // Disable the input element since further picks are not allowed.\n",
              "  inputElement.disabled = true;\n",
              "\n",
              "  if (!files) {\n",
              "    return {\n",
              "      response: {\n",
              "        action: 'complete',\n",
              "      }\n",
              "    };\n",
              "  }\n",
              "\n",
              "  for (const file of files) {\n",
              "    const li = document.createElement('li');\n",
              "    li.append(span(file.name, {fontWeight: 'bold'}));\n",
              "    li.append(span(\n",
              "        `(${file.type || 'n/a'}) - ${file.size} bytes, ` +\n",
              "        `last modified: ${\n",
              "            file.lastModifiedDate ? file.lastModifiedDate.toLocaleDateString() :\n",
              "                                    'n/a'} - `));\n",
              "    const percent = span('0% done');\n",
              "    li.appendChild(percent);\n",
              "\n",
              "    outputElement.appendChild(li);\n",
              "\n",
              "    const fileDataPromise = new Promise((resolve) => {\n",
              "      const reader = new FileReader();\n",
              "      reader.onload = (e) => {\n",
              "        resolve(e.target.result);\n",
              "      };\n",
              "      reader.readAsArrayBuffer(file);\n",
              "    });\n",
              "    // Wait for the data to be ready.\n",
              "    let fileData = yield {\n",
              "      promise: fileDataPromise,\n",
              "      response: {\n",
              "        action: 'continue',\n",
              "      }\n",
              "    };\n",
              "\n",
              "    // Use a chunked sending to avoid message size limits. See b/62115660.\n",
              "    let position = 0;\n",
              "    do {\n",
              "      const length = Math.min(fileData.byteLength - position, MAX_PAYLOAD_SIZE);\n",
              "      const chunk = new Uint8Array(fileData, position, length);\n",
              "      position += length;\n",
              "\n",
              "      const base64 = btoa(String.fromCharCode.apply(null, chunk));\n",
              "      yield {\n",
              "        response: {\n",
              "          action: 'append',\n",
              "          file: file.name,\n",
              "          data: base64,\n",
              "        },\n",
              "      };\n",
              "\n",
              "      let percentDone = fileData.byteLength === 0 ?\n",
              "          100 :\n",
              "          Math.round((position / fileData.byteLength) * 100);\n",
              "      percent.textContent = `${percentDone}% done`;\n",
              "\n",
              "    } while (position < fileData.byteLength);\n",
              "  }\n",
              "\n",
              "  // All done.\n",
              "  yield {\n",
              "    response: {\n",
              "      action: 'complete',\n",
              "    }\n",
              "  };\n",
              "}\n",
              "\n",
              "scope.google = scope.google || {};\n",
              "scope.google.colab = scope.google.colab || {};\n",
              "scope.google.colab._files = {\n",
              "  _uploadFiles,\n",
              "  _uploadFilesContinue,\n",
              "};\n",
              "})(self);\n",
              "</script> "
            ]
          },
          "metadata": {}
        },
        {
          "output_type": "stream",
          "name": "stdout",
          "text": [
            "Saving FinnegansWake.txt to FinnegansWake (2).txt\n",
            "chars: 1303910\n"
          ]
        }
      ]
    },
    {
      "cell_type": "code",
      "source": [
        "# Sentence-ish chunks\n",
        "import random\n",
        "def wake_slices(text, max_tokens=18):\n",
        "    # Wake hates full stops; or maybe i do\n",
        "    bits = re.split(r'(?<=[\\.\\!\\?\\;:])\\s+', text)\n",
        "    out = []\n",
        "    for b in bits:\n",
        "        toks = b.strip().split()\n",
        "        if 4 <= len(toks) <= max_tokens:\n",
        "            out.append(\" \".join(toks))\n",
        "    return out\n",
        "\n",
        "sents = wake_slices(raw, max_tokens=18)\n",
        "random.shuffle(sents)\n",
        "print(\"usable lines:\", len(sents))\n",
        "for s in sents[:5]:\n",
        "    print(\"-\", s)"
      ],
      "metadata": {
        "id": "694DuHcQbg98",
        "colab": {
          "base_uri": "https://localhost:8080/"
        },
        "outputId": "86cf1c5b-c48b-451d-d470-f138b47bb258"
      },
      "execution_count": 25,
      "outputs": [
        {
          "output_type": "stream",
          "name": "stdout",
          "text": [
            "usable lines: 8031\n",
            "- Fine!) This is the triplewon hat of Lipoleum.\n",
            "- Somewhere, parently, in the ginnandgo gap between antediluvious and annadominant the copyist must have fled with his scroll.\n",
            "- Yaa hoo how how, col?\n",
            "- Why such an order number in preference to any other number?\n",
            "- on the third dead beat, O!\n"
          ]
        }
      ]
    },
    {
      "cell_type": "code",
      "source": [
        "# Parse → diagrams (rewrite on)\n",
        "parser = BobcatParser()\n",
        "rewriter = Rewriter([\n",
        "    'prepositional_phrase','determiner','connector',\n",
        "    'preadverb','postadverb','auxiliary'\n",
        "])\n",
        "\n",
        "def build_diagrams(lines, use_rewrite=True, limit=60):\n",
        "    diags, kept = [], []\n",
        "    for s in lines[:limit]:\n",
        "        try:\n",
        "            d = parser.sentence2diagram(s)\n",
        "            if use_rewrite:\n",
        "                d = rewriter(d)\n",
        "            diags.append(d); kept.append(s)\n",
        "        except Exception:\n",
        "            pass\n",
        "    return kept, diags\n",
        "\n",
        "lines_rw, diags_rw = build_diagrams(sents, use_rewrite=True, limit=80)\n",
        "lines_nr, diags_nr = build_diagrams(sents, use_rewrite=False, limit=80)\n",
        "\n",
        "len(diags_rw), len(diags_nr)\n"
      ],
      "metadata": {
        "id": "T-Ipy-oRbpfy",
        "colab": {
          "base_uri": "https://localhost:8080/"
        },
        "outputId": "3af11346-fe79-4210-b22a-b2cd1e3a6888"
      },
      "execution_count": 26,
      "outputs": [
        {
          "output_type": "execute_result",
          "data": {
            "text/plain": [
              "(68, 68)"
            ]
          },
          "metadata": {},
          "execution_count": 26
        }
      ]
    },
    {
      "cell_type": "code",
      "source": [
        "import re\n",
        "\n",
        "def window_tokens(s, size=12, stride=8):\n",
        "    toks = s.split()\n",
        "    out = []\n",
        "    i = 0\n",
        "    while i < len(toks):\n",
        "        out.append(\" \".join(toks[i:i+size]))\n",
        "        i += stride\n",
        "    return [x for x in out if len(x.split()) >= 4]\n",
        "\n",
        "def render_storyboard(sentence, ansatz, base=\"outputs/wake_panel\"):\n",
        "    panels = window_tokens(sentence, size=12, stride=8)\n",
        "    paths = []\n",
        "    for k, frag in enumerate(panels, 1):\n",
        "        try:\n",
        "            d = rewriter(parser.sentence2diagram(frag))\n",
        "            c = ansatz(d)\n",
        "            p1 = f\"{base}_{k}_diagram.png\"\n",
        "            p2 = f\"{base}_{k}_circuit.png\"\n",
        "            save_diag(d, p1, w=16, h=3, fs=9)\n",
        "            save_circuit(c, p2, w=22, h=4, fs=8)\n",
        "            paths.extend([p1, p2])\n",
        "        except Exception:\n",
        "            pass\n",
        "    return panels, paths\n",
        "\n",
        "# Example\n",
        "N, S = AtomicType.NOUN, AtomicType.SENTENCE\n",
        "iqp = IQPAnsatz({N:1, S:1}, n_layers=1)\n",
        "sentence = \"his birthspot lies beyond the herospont and his burialplot in the pleasant little field;\"\n",
        "panels, images = render_storyboard(sentence, iqp)\n",
        "print(panels)\n",
        "print(images)\n"
      ],
      "metadata": {
        "colab": {
          "base_uri": "https://localhost:8080/"
        },
        "id": "aktXC3TXbbyM",
        "outputId": "72af8665-2541-412f-d461-32245d62b2cb"
      },
      "execution_count": 31,
      "outputs": [
        {
          "output_type": "stream",
          "name": "stdout",
          "text": [
            "['his birthspot lies beyond the herospont and his burialplot in the pleasant', 'burialplot in the pleasant little field;']\n",
            "['outputs/wake_panel_1_diagram.png', 'outputs/wake_panel_1_circuit.png', 'outputs/wake_panel_2_diagram.png', 'outputs/wake_panel_2_circuit.png']\n"
          ]
        }
      ]
    },
    {
      "cell_type": "code",
      "source": [
        "from PIL import Image\n",
        "\n",
        "def stack_images(img_paths, out=\"outputs/storyboard.png\", pad=20):\n",
        "    imgs = [Image.open(p).convert(\"RGB\") for p in img_paths]\n",
        "    W = max(i.width for i in imgs)\n",
        "    H = sum(i.height for i in imgs) + pad*(len(imgs)-1)\n",
        "    canvas = Image.new(\"RGB\", (W, H), \"white\")\n",
        "    y = 0\n",
        "    for im in imgs:\n",
        "        x = (W - im.width)//2\n",
        "        canvas.paste(im, (x, y))\n",
        "        y += im.height + pad\n",
        "    canvas.save(out)\n",
        "    return out\n",
        "\n",
        "out = stack_images(images, out=\"outputs/wake_contact_sheet.png\")\n",
        "print(\"Saved storyboard →\", out)\n"
      ],
      "metadata": {
        "colab": {
          "base_uri": "https://localhost:8080/"
        },
        "id": "nN4bhPfEbsnj",
        "outputId": "473f553e-ce91-43f0-9d49-3fa88d0fc0ef"
      },
      "execution_count": 32,
      "outputs": [
        {
          "output_type": "stream",
          "name": "stdout",
          "text": [
            "Saved storyboard → outputs/wake_contact_sheet.png\n"
          ]
        }
      ]
    },
    {
      "cell_type": "code",
      "source": [
        "import re, json, numpy as np, torch, tensornetwork as tn\n",
        "\n",
        "torch.set_default_dtype(torch.float32)\n",
        "tn.set_default_backend(\"pytorch\")\n",
        "from lambeq.backend import tensor as lbt\n",
        "lbt.DTYPE = np.float32\n",
        "\n",
        "from lambeq import (\n",
        "    BobcatParser, AtomicType, Dataset,\n",
        "    PytorchModel, PytorchTrainer\n",
        ")\n",
        "from lambeq.ansatz import SpiderAnsatz\n",
        "from lambeq.backend.tensor import Dim\n",
        "from lambeq.rewrite import Rewriter\n",
        "\n",
        "def wake_slices(text, max_tokens=18):\n",
        "    bits = re.split(r'(?<=[\\.\\!\\?\\;:])\\s+', text)\n",
        "    return [\" \".join(b.strip().split()) for b in bits if 4 <= len(b.strip().split()) <= max_tokens]\n",
        "\n",
        "assert 'raw' in globals(), \"Upload/define `raw` first.\"\n",
        "sents = wake_slices(raw, max_tokens=18)\n",
        "\n",
        "available = sorted(getattr(Rewriter, \"_available_rules\").keys())\n",
        "requested = [\"determiner\",\"connector\",\"prepositional_phrase\",\"preadverb\",\"postadverb\",\"auxiliary\",\"coordination\",\"curry\"]\n",
        "chosen = [r for r in requested if r in available]\n",
        "print(\"Using rewrite rules:\", chosen)\n",
        "rewriter = Rewriter(chosen)\n",
        "parser = BobcatParser()\n",
        "\n",
        "def build_diagrams(lines, limit=220):\n",
        "    diags, kept = [], []\n",
        "    for s in lines[:limit]:\n",
        "        try:\n",
        "            d = parser.sentence2diagram(s)\n",
        "            diags.append(rewriter(d)); kept.append(s)\n",
        "        except: pass\n",
        "    return kept, diags\n",
        "\n",
        "lines, diagrams = build_diagrams(sents, limit=240)\n",
        "print(\"Parsed diagrams:\", len(diagrams))\n",
        "assert len(diagrams) >= 20, \"Need >=20 diagrams; increase limit or relax max_tokens.\"\n",
        "\n",
        "def atoms_in_type(ty):\n",
        "    return [m.group(1) for m in re.finditer(r'\\b([a-z])(?:\\.(?:l|r))?\\b', str(ty))]\n",
        "atoms = sorted({a for d in diagrams for a in (atoms_in_type(d.dom)+atoms_in_type(d.cod))})\n",
        "print(\"Atoms present:\", atoms)\n",
        "\n",
        "dim2 = Dim(2)\n",
        "ob_map = {AtomicType.NOUN: dim2, AtomicType.SENTENCE: dim2}\n",
        "for maybe in [\"PREPOSITION\",\"PREPOSITIONAL_PHRASE\",\"ADJECTIVE\",\"ADVERB\",\"PRONOUN\",\"DETERMINER\",\"CONJUNCTION\",\"RELATIVE\",\"AUXILIARY\",\"PUNCTUATION\",\"VERB\"]:\n",
        "    t = getattr(AtomicType, maybe, None)\n",
        "    if t is not None:\n",
        "        ob_map[t] = dim2\n",
        "\n",
        "ansatz = SpiderAnsatz(ob_map)\n",
        "circuits = [ansatz(d) for d in diagrams]\n",
        "print(\"Circuits:\", len(circuits))\n",
        "\n",
        "# 4) toy labels -> one-hot (float32)\n",
        "def toy_label(s: str) -> int:\n",
        "    return 1 if re.search(r'\\b(like|as)\\b', s, re.I) else 0\n",
        "y_bin = np.array([toy_label(s) for s in lines], dtype=np.int64)\n",
        "y_oh  = np.stack([1 - y_bin, y_bin], axis=1).astype(np.float32)\n",
        "\n",
        "# 5) try lambeq TN training; if it fails, fall back to sklearn\n",
        "def train_lambeq_tn(circuits, y_oh):\n",
        "    from lambeq.training import pytorch_model as pm\n",
        "    # cast all node tensors to float32 before contraction\n",
        "    def get_diagram_output_cast(self, diagrams):\n",
        "        outs = []\n",
        "        with tn.DefaultBackend('pytorch'):\n",
        "            for d in diagrams:\n",
        "                nodes, out_order = d.to_tn()\n",
        "                for node in nodes:\n",
        "                    T = node.tensor\n",
        "                    if not isinstance(T, torch.Tensor):\n",
        "                        T = torch.tensor(T)\n",
        "                    if T.dtype != torch.float32:\n",
        "                        T = T.to(torch.float32)\n",
        "                    node.tensor = T\n",
        "                outs.append(self._tn_contract(nodes, out_order).tensor)\n",
        "        return torch.stack(outs)\n",
        "    pm.PytorchModel.get_diagram_output = get_diagram_output_cast\n",
        "\n",
        "    model = PytorchModel.from_diagrams(circuits).to(dtype=torch.float32)\n",
        "\n",
        "    sigmoid = torch.sigmoid\n",
        "    def accuracy(y_hat, y):\n",
        "        if y.dtype != y_hat.dtype: y = y.to(y_hat.dtype)\n",
        "        return torch.sum(torch.eq(torch.round(sigmoid(y_hat)), y))/len(y)/2\n",
        "\n",
        "    trainer = PytorchTrainer(\n",
        "        model=model,\n",
        "        loss_function=torch.nn.BCEWithLogitsLoss(),\n",
        "        optimizer=torch.optim.AdamW,\n",
        "        learning_rate=3e-2,\n",
        "        epochs=12,\n",
        "        evaluate_functions={\"acc\": accuracy},\n",
        "        evaluate_on_train=True,\n",
        "        verbose='text',\n",
        "        seed=0\n",
        "    )\n",
        "\n",
        "    n = len(circuits)\n",
        "    n_train = max(10, int(0.7*n))\n",
        "    n_val   = max(5,  int(0.15*n))\n",
        "    train_ds = Dataset(circuits[:n_train],              y_oh[:n_train],           batch_size=30)\n",
        "    val_ds   = Dataset(circuits[n_train:n_train+n_val], y_oh[n_train:n_train+n_val], shuffle=False)\n",
        "    test_cir = circuits[n_train+n_val:]\n",
        "    test_lab = y_oh[n_train+n_val:]\n",
        "\n",
        "    # forward sanity\n",
        "    with torch.no_grad():\n",
        "        _ = model(circuits[:1])\n",
        "\n",
        "    trainer.fit(train_ds, val_ds, eval_interval=1, log_interval=5)\n",
        "    with torch.no_grad():\n",
        "        logits = model(test_cir)\n",
        "        sig = sigmoid(logits)\n",
        "        acc = float((torch.round(sig)==torch.tensor(test_lab)).sum()/len(test_lab)/2)\n",
        "    return {\"backend\":\"lambeq_tn\", \"n_samples\":n, \"atoms\":atoms, \"acc\":acc}\n",
        "\n",
        "def train_sklearn_baseline(diagrams, lines, y_bin):\n",
        "    # super-robust backup: structural features only\n",
        "    from sklearn.linear_model import LogisticRegression\n",
        "    from sklearn.model_selection import train_test_split\n",
        "    from sklearn.metrics import accuracy_score\n",
        "\n",
        "    def feats(d):\n",
        "        nb = len(getattr(d, \"boxes\", []))\n",
        "        nw = len(getattr(d, \"wires\", []))\n",
        "        dn = str(getattr(d,\"dom\",\"\")).count(\"n\")\n",
        "        ds = str(getattr(d,\"dom\",\"\")).count(\"s\")\n",
        "        cn = str(getattr(d,\"cod\",\"\")).count(\"n\")\n",
        "        cs = str(getattr(d,\"cod\",\"\")).count(\"s\")\n",
        "        return np.array([nb,nw,dn,ds,cn,cs], dtype=np.float32)\n",
        "\n",
        "    X = np.vstack([feats(d) for d in diagrams])\n",
        "    Xtr,Xte,ytr,yte = train_test_split(X, y_bin, test_size=0.25, random_state=42, stratify=y_bin if y_bin.sum() not in (0,len(y_bin)) else None)\n",
        "    clf = LogisticRegression(max_iter=1000).fit(Xtr, ytr)\n",
        "    acc = accuracy_score(yte, clf.predict(Xte))\n",
        "    return {\"backend\":\"sklearn_baseline\", \"n_samples\":int(len(X)), \"atoms\":atoms, \"acc\":float(acc)}\n",
        "\n",
        "report = None\n",
        "try:\n",
        "    report = train_lambeq_tn(circuits, y_oh)\n",
        "    print(\"lambeq TN training ok | acc:\", report[\"acc\"])\n",
        "except Exception as e:\n",
        "    print(\"lambeq TN failed:\", type(e).__name__, str(e)[:200], \"…\")\n",
        "    print(\"→ Falling back to sklearn baseline (keeps pipeline sexy, training robust).\")\n",
        "    report = train_sklearn_baseline(diagrams, lines, y_bin)\n",
        "    print(\"sklearn baseline ok | acc:\", report[\"acc\"])\n",
        "\n",
        "import os\n",
        "os.makedirs(\"outputs\", exist_ok=True)\n",
        "with open(\"outputs/training_report.json\",\"w\") as f:\n",
        "    json.dump(report, f, indent=2)\n",
        "print(\"Saved → outputs/training_report.json\")\n"
      ],
      "metadata": {
        "colab": {
          "base_uri": "https://localhost:8080/"
        },
        "id": "W0BVvm_izsMS",
        "outputId": "e0cee2a8-3ae8-47a1-dc22-ad4d1da87468"
      },
      "execution_count": 46,
      "outputs": [
        {
          "output_type": "stream",
          "name": "stdout",
          "text": [
            "Using rewrite rules: ['determiner', 'connector', 'prepositional_phrase', 'preadverb', 'postadverb', 'auxiliary', 'coordination', 'curry']\n",
            "Parsed diagrams: 222\n",
            "Atoms present: ['n', 'p', 's']\n",
            "Circuits: 222\n",
            "lambeq TN failed: ValueError cannot reshape array of size 1 into shape (2,2) …\n",
            "→ Falling back to sklearn baseline (keeps pipeline sexy, training robust).\n",
            "sklearn baseline ok | acc: 0.9642857142857143\n",
            "Saved → outputs/training_report.json\n"
          ]
        }
      ]
    },
    {
      "cell_type": "code",
      "source": [
        "# Ablation\n",
        "import os, time, json, numpy as np, re\n",
        "os.makedirs(\"outputs\", exist_ok=True)\n",
        "\n",
        "# helpers\n",
        "def ty_arity(ty) -> int:\n",
        "    \"\"\"Return count of atomic wires in a DisCoPy Ty, robust across versions.\"\"\"\n",
        "    for attr in (\"objects\", \"inside\"):\n",
        "        if hasattr(ty, attr):\n",
        "            try:\n",
        "                return len(getattr(ty, attr))\n",
        "            except Exception:\n",
        "                pass\n",
        "    return len(re.findall(r\"\\b([a-z])(?:\\.(?:l|r))?\\b\", str(ty)))\n",
        "\n",
        "def diag_complexity(diags):\n",
        "    boxes = [len(d.boxes) for d in diags]\n",
        "    wire_loads = []\n",
        "    for d in diags:\n",
        "        wl = ty_arity(getattr(d, \"dom\", \"\")) + ty_arity(getattr(d, \"cod\", \"\"))\n",
        "        for b in getattr(d, \"boxes\", []):\n",
        "            wl += ty_arity(getattr(b, \"dom\", \"\")) + ty_arity(getattr(b, \"cod\", \"\"))\n",
        "        wire_loads.append(wl)\n",
        "    def _safe_mean(x): return float(np.mean(x)) if x else 0.0\n",
        "    def _safe_med(x):  return float(np.median(x)) if x else 0.0\n",
        "    return {\n",
        "        \"n\": len(diags),\n",
        "        \"avg_boxes\": _safe_mean(boxes),\n",
        "        \"med_boxes\": _safe_med(boxes),\n",
        "        \"avg_wireload\": _safe_mean(wire_loads),\n",
        "        \"med_wireload\": _safe_med(wire_loads),\n",
        "    }\n",
        "\n",
        "try:\n",
        "    ansatz\n",
        "except NameError:\n",
        "    from lambeq import IQPAnsatz, AtomicType\n",
        "    N, S = AtomicType.NOUN, AtomicType.SENTENCE\n",
        "    ansatz = IQPAnsatz({N:1, S:1}, n_layers=1)\n",
        "\n",
        "try:\n",
        "    diags_rw, diags_nr\n",
        "except NameError:\n",
        "    from lambeq import BobcatParser\n",
        "    from lambeq.rewrite import Rewriter\n",
        "    parser = BobcatParser()\n",
        "    avail = getattr(Rewriter, \"_available_rules\", {})\n",
        "    rules = [r for r in [\"determiner\",\"connector\",\"prepositional_phrase\",\"preadverb\",\"postadverb\",\"auxiliary\",\"coordination\",\"curry\"] if r in avail]\n",
        "    rewriter = Rewriter(rules)\n",
        "\n",
        "    def wake_slices(text, max_tokens=18):\n",
        "        bits = re.split(r'(?<=[\\.\\!\\?\\;:])\\s+', text)\n",
        "        return [\" \".join(b.strip().split()) for b in bits if 4 <= len(b.strip().split()) <= max_tokens]\n",
        "\n",
        "    if \"raw\" not in globals():\n",
        "        raise RuntimeError(\"Need `raw` text in memory to (re)build diagrams.\")\n",
        "    sents = wake_slices(raw, max_tokens=18)\n",
        "\n",
        "    def build_diagrams(lines, use_rewrite=True, limit=160):\n",
        "        out = []\n",
        "        for s in lines[:limit]:\n",
        "            try:\n",
        "                d = parser.sentence2diagram(s)\n",
        "                if use_rewrite:\n",
        "                    d = rewriter(d)\n",
        "                out.append(d)\n",
        "            except Exception:\n",
        "                pass\n",
        "        return out\n",
        "\n",
        "    diags_rw = build_diagrams(sents, True, 160)\n",
        "    diags_nr = build_diagrams(sents, False, 160)\n",
        "\n",
        "# timing (mapping to ansatz) -------------------------------------------\n",
        "def map_time(diags):\n",
        "    fails = 0\n",
        "    # warm-up to avoid first-call overhead\n",
        "    if diags:\n",
        "        try:\n",
        "            _ = ansatz(diags[0])\n",
        "        except Exception:\n",
        "            fails += 1\n",
        "    t0 = time.time()\n",
        "    for d in diags:\n",
        "        try:\n",
        "            _ = ansatz(d)\n",
        "        except Exception:\n",
        "            fails += 1\n",
        "    t1 = time.time()\n",
        "    return round(t1 - t0, 3), fails\n",
        "\n",
        "t_rw, fail_rw = map_time(diags_rw)\n",
        "t_nr, fail_nr = map_time(diags_nr)\n",
        "\n",
        "row_rw = {**diag_complexity(diags_rw), \"ansatz_seconds\": t_rw, \"map_failures\": fail_rw, \"setting\": \"rewrite=on\"}\n",
        "row_nr = {**diag_complexity(diags_nr), \"ansatz_seconds\": t_nr, \"map_failures\": fail_nr, \"setting\": \"rewrite=off\"}\n",
        "\n",
        "# save ------------------------------------------------------------------\n",
        "with open(\"outputs/ablation.json\", \"w\") as f:\n",
        "    json.dump([row_rw, row_nr], f, indent=2)\n",
        "\n",
        "import csv\n",
        "with open(\"outputs/ablation.csv\", \"w\", newline=\"\") as f:\n",
        "    w = csv.DictWriter(f, fieldnames=list(row_rw.keys()))\n",
        "    w.writeheader(); w.writerow(row_rw); w.writerow(row_nr)\n",
        "\n",
        "print(\"Ablation:\")\n",
        "print(\" rewrite=on \", row_rw)\n",
        "print(\" rewrite=off\", row_nr)\n",
        "print(\"→ saved to outputs/ablation.json and outputs/ablation.csv\")\n"
      ],
      "metadata": {
        "colab": {
          "base_uri": "https://localhost:8080/"
        },
        "id": "tmz-_I8i6GTR",
        "outputId": "5098d63d-2e28-4152-9bcd-06143a386528"
      },
      "execution_count": 49,
      "outputs": [
        {
          "output_type": "stream",
          "name": "stdout",
          "text": [
            "Ablation:\n",
            " rewrite=on  {'n': 68, 'avg_boxes': 22.073529411764707, 'med_boxes': 20.0, 'avg_wireload': 44.470588235294116, 'med_wireload': 38.0, 'ansatz_seconds': 0.41, 'map_failures': 0, 'setting': 'rewrite=on'}\n",
            " rewrite=off {'n': 68, 'avg_boxes': 21.13235294117647, 'med_boxes': 19.0, 'avg_wireload': 44.470588235294116, 'med_wireload': 38.0, 'ansatz_seconds': 0.424, 'map_failures': 0, 'setting': 'rewrite=off'}\n",
            "→ saved to outputs/ablation.json and outputs/ablation.csv\n"
          ]
        }
      ]
    },
    {
      "cell_type": "code",
      "source": [
        "import pkgutil, pkg_resources, sys, subprocess, json, os\n",
        "pkgs = [\"lambeq\",\"discopy\",\"tensornetwork\",\"torch\",\"numpy\",\"scipy\"]\n",
        "vers = {p: pkg_resources.get_distribution(p).version for p in pkgs if pkgutil.find_loader(p)}\n",
        "print(vers)\n",
        "with open(\"requirements.txt\",\"w\") as f:\n",
        "    for p,v in vers.items(): f.write(f\"{p}=={v}\\n\")\n",
        "print(\"wrote requirements.txt\")\n"
      ],
      "metadata": {
        "colab": {
          "base_uri": "https://localhost:8080/"
        },
        "id": "wjUizXRZ6flf",
        "outputId": "4af61856-113a-429d-cd36-cb26dee6528c"
      },
      "execution_count": 50,
      "outputs": [
        {
          "output_type": "stream",
          "name": "stderr",
          "text": [
            "/tmp/ipython-input-3160207538.py:1: DeprecationWarning: pkg_resources is deprecated as an API. See https://setuptools.pypa.io/en/latest/pkg_resources.html\n",
            "  import pkgutil, pkg_resources, sys, subprocess, json, os\n"
          ]
        },
        {
          "output_type": "stream",
          "name": "stdout",
          "text": [
            "{'lambeq': '0.5.0', 'discopy': '1.2.0', 'tensornetwork': '0.4.6', 'torch': '2.8.0+cu126', 'numpy': '2.0.2', 'scipy': '1.16.2'}\n",
            "wrote requirements.txt\n"
          ]
        },
        {
          "output_type": "stream",
          "name": "stderr",
          "text": [
            "/tmp/ipython-input-3160207538.py:3: DeprecationWarning: 'pkgutil.find_loader' is deprecated and slated for removal in Python 3.14; use importlib.util.find_spec() instead\n",
            "  vers = {p: pkg_resources.get_distribution(p).version for p in pkgs if pkgutil.find_loader(p)}\n"
          ]
        }
      ]
    },
    {
      "cell_type": "code",
      "source": [
        "import json, pandas as pd, os\n",
        "ab = json.load(open(\"outputs/ablation.json\"))\n",
        "print(pd.DataFrame(ab)[[\"setting\",\"n\",\"avg_boxes\",\"avg_wireload\",\"ansatz_seconds\",\"map_failures\"]])\n",
        "tr = json.load(open(\"outputs/training_report.json\"))\n",
        "print(tr)\n"
      ],
      "metadata": {
        "colab": {
          "base_uri": "https://localhost:8080/"
        },
        "id": "eIQXX9im6m3U",
        "outputId": "ed599146-61de-42d9-edb1-9889d3b7fad7"
      },
      "execution_count": 53,
      "outputs": [
        {
          "output_type": "stream",
          "name": "stdout",
          "text": [
            "       setting   n  avg_boxes  avg_wireload  ansatz_seconds  map_failures\n",
            "0   rewrite=on  68  22.073529     44.470588           0.410             0\n",
            "1  rewrite=off  68  21.132353     44.470588           0.424             0\n",
            "{'backend': 'sklearn_baseline', 'n_samples': 222, 'atoms': ['n', 'p', 's'], 'acc': 0.9642857142857143}\n"
          ]
        }
      ]
    }
  ]
}